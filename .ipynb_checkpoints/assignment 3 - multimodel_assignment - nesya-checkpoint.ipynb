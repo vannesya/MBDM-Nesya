{
 "cells": [
  {
   "cell_type": "markdown",
   "metadata": {},
   "source": [
    "# EPA1361 - Model-Based Decision Making\n",
    "\n",
    "## Multi-model analysis\n",
    "\n",
    "This exercise uses a simple version of the [Lotka-Volterra predator-prey equations](https://en.wikipedia.org/wiki/Lotka%E2%80%93Volterra_equations) to show how the EMA Workbench can be used for a\n",
    "multi-model analysis, in addition to typical parametric/structural uncertainties. This will let you test the connectors provided in the Workbench for Excel, NetLogo, and Vensim / PySD; we'll also use the models for the sensitivity analysis exercise in week 3.\n",
    "\n",
    "* Using the three model files provided and the Python function below, define model objects for each implementation (Excel, NetLogo, Vensim/PySD, and Python), and test them using a single ensemble. Use 50 experiments sampled from the parameters below (so that each experiment will be executed for the 4 models, for a total of 200), and retrieve outputs for the _TIME_, _predators_, and _prey_ variables.\n",
    "    * excel and vensim are only supported on windows\n",
    "    * vensim requires 32 bit python, and a 7.1!! version of vensim DSS\n",
    "    * Netlogo supoprt depends on [jpype](http://jpype.readthedocs.io/en/latest/install.html) and [pynetlogo](https://pynetlogo.readthedocs.io/en/latest/). Also, if you don't have NetLogo installed, please get it from [NetLogo 6.0](https://ccl.northwestern.edu/netlogo/download.shtml) \n",
    "    * for pysd, see [its documentation](http://pysd.readthedocs.io/en/master/installation.html)\n",
    "    * If possible try to work with all model versions, but even 2 or 3 (pure python and something else should be sufficient).\n",
    "    \n",
    "\n",
    "|Parameter\t|Range or value\t        |\n",
    "|-----------|--------------:|\n",
    "|prey_birth_rate    \t|0.015 – 0.035\t|\n",
    "|predation_rate|0.0005 – 0.003 \t|\n",
    "|predator_efficiency     \t|0.001 – 0.004\t    |\n",
    "|predator_loss_rate\t    |0.04 – 0.08\t    |\n",
    "|Final time\t    |365\t    |\n",
    "|dt\t    |0.25\t    |\n",
    "\n",
    "* Note that your EMA Workbench installation includes example scripts for the different connectors. The different model objects follow a similar syntax but will need to be slightly adjusted depending on the software (e.g. to specify the NetLogo run length or the sheet name in Excel). \n",
    "\n",
    "* These model objects can be used with a replication functionality (for instance to test the effect of stochastic uncertainty in a NetLogo model), which repeats a given experiment over multiple replications. You can use a single replication in this exercise as the models are not stochastic. By default, each outcome array will then have a shape of (# experiments, # replications, # time steps). Try adapting the outcome arrays so that they can be used with the _lines_ plotting function of the Workbench, and plot the results grouped by model.\n",
    "\n",
    "* To check the graphical results, find the maximum absolute error of the time series you obtained for the _prey_ variable in the Excel, NetLogo, and Vensim/PySD models, relative to the Python function. "
   ]
  },
  {
   "cell_type": "code",
   "execution_count": 1,
   "metadata": {},
   "outputs": [
    {
     "name": "stderr",
     "output_type": "stream",
     "text": [
      "C:\\Anaconda\\lib\\site-packages\\ema_workbench\\connectors\\__init__.py:17: ImportWarning: vensim connector not available\n",
      "  warnings.warn(\"vensim connector not available\", ImportWarning)\n"
     ]
    }
   ],
   "source": [
    "import numpy as np\n",
    "import matplotlib.pyplot as plt\n",
    "\n",
    "from ema_workbench import (Model, RealParameter, TimeSeriesOutcome, perform_experiments,\n",
    "                           ema_logging)\n",
    "ema_logging.log_to_stderr(ema_logging.INFO)\n",
    "from ema_workbench.connectors.netlogo import NetLogoModel\n",
    "from ema_workbench.connectors.excel import ExcelModel\n",
    "from ema_workbench.connectors.pysd_connector import PysdModel\n",
    "\n",
    "from ema_workbench.em_framework.evaluators import LHS, SOBOL, MORRIS\n",
    "\n",
    "from ema_workbench.analysis.plotting import lines, Density\n",
    "import pysd\n",
    "from ema_workbench.connectors.pysd_connector import PysdModel\n",
    "from ema_workbench.connectors.excel import ExcelModel\n",
    "from ema_workbench.em_framework.evaluators import MultiprocessingEvaluator\n",
    "import pyNetLogo\n",
    "import logging\n",
    "from multiprocessing import Process\n",
    "import sys\n",
    "import jpype\n",
    "import os\n",
    "os.system(\"PredPrey.py\")\n",
    "from PredPrey import PredPrey"
   ]
  },
  {
   "cell_type": "code",
   "execution_count": 2,
   "metadata": {},
   "outputs": [],
   "source": [
    "modelPython = Model('PredPreyPython', function=PredPrey)\n",
    "\n",
    "modelPython.uncertainties = [RealParameter('prey_birth_rate', 0.015, 0.035),\n",
    "                       RealParameter('predation_rate', 0.0005, 0.003),\n",
    "                       RealParameter('predator_efficiency', 0.001, 0.004),\n",
    "                       RealParameter('predator_loss_rate', 0.04, 0.08)]\n",
    "\n",
    "modelPython.outcomes = [TimeSeriesOutcome('TIME'),\n",
    "                  TimeSeriesOutcome('predators'),\n",
    "                  TimeSeriesOutcome('prey')]\n"
   ]
  },
  {
   "cell_type": "code",
   "execution_count": null,
   "metadata": {},
   "outputs": [],
   "source": [
    "modelVensim = pysd.read_vensim('model\\\\PredPrey.mdl')\n",
    "modelVensim.uncertainties = [RealParameter('prey_birth_rate', 0.015, 0.035),\n",
    "                       RealParameter('predation_rate', 0.0005, 0.003),\n",
    "                       RealParameter('predator_efficiency', 0.001, 0.004),\n",
    "                       RealParameter('predator_loss_rate', 0.04, 0.08)]\n",
    "\n",
    "modelVensim.outcomes = [TimeSeriesOutcome('TIME'),\n",
    "                  TimeSeriesOutcome('predators'),\n",
    "                  TimeSeriesOutcome('prey')]"
   ]
  },
  {
   "cell_type": "code",
   "execution_count": null,
   "metadata": {},
   "outputs": [],
   "source": [
    "modelVensim.doc()"
   ]
  },
  {
   "cell_type": "code",
   "execution_count": 5,
   "metadata": {},
   "outputs": [],
   "source": [
    "modelExcel = ExcelModel(\"PredPreyExcel\", wd=\"./model\",model_file='PredPrey.xlsx')\n",
    "\n",
    "modelExcel.uncertainties = [RealParameter('B3', 0.015, 0.035),\n",
    "                       RealParameter('B4', 0.0005, 0.003),\n",
    "                       RealParameter('B5', 0.001, 0.004),\n",
    "                       RealParameter('B6', 0.04, 0.08)]\n",
    "\n",
    "modelExcel.outcomes = [TimeSeriesOutcome('B14:BDF14'),\n",
    "                  TimeSeriesOutcome('B18:BDF18'),\n",
    "                  TimeSeriesOutcome('B17:BDF17')]\n",
    "modelExcel.default_sheet = \"Sheet1\"\n"
   ]
  },
  {
   "cell_type": "code",
   "execution_count": 6,
   "metadata": {},
   "outputs": [],
   "source": [
    "modelNetlogo = NetLogoModel('predprey',\n",
    "                         wd=\"./model\",\n",
    "                         model_file=\"PredPrey.nlogo\")\n",
    "\n",
    "modelNetlogo.uncertainties = [RealParameter('prey_birth_rate', 0.015, 0.035),\n",
    "                       RealParameter('predation_rate', 0.0005, 0.003),\n",
    "                       RealParameter('predator_efficiency', 0.001, 0.004),\n",
    "                       RealParameter('predator_loss_rate', 0.04, 0.08)]\n",
    "\n",
    "modelNetlogo.outcomes = [TimeSeriesOutcome('TIME'),\n",
    "                  TimeSeriesOutcome('predators'),\n",
    "                  TimeSeriesOutcome('prey')]\n",
    "modelNetlogo.run_length = 100\n",
    "modelNetlogo.replications = 1"
   ]
  },
  {
   "cell_type": "markdown",
   "metadata": {},
   "source": [
    "### Python Model "
   ]
  },
  {
   "cell_type": "code",
   "execution_count": null,
   "metadata": {},
   "outputs": [
    {
     "name": "stderr",
     "output_type": "stream",
     "text": [
      "[MainProcess/INFO] pool started\n",
      "[MainProcess/INFO] performing 50 scenarios * 1 policies * 1 model(s) = 50 experiments\n"
     ]
    }
   ],
   "source": [
    "with MultiprocessingEvaluator(modelPython) as evaluator:\n",
    "    results = perform_experiments(modelPython, 50, evaluator=evaluator)"
   ]
  },
  {
   "cell_type": "code",
   "execution_count": null,
   "metadata": {},
   "outputs": [],
   "source": [
    "results"
   ]
  },
  {
   "cell_type": "markdown",
   "metadata": {},
   "source": [
    "### Vensim Model"
   ]
  },
  {
   "cell_type": "code",
   "execution_count": 7,
   "metadata": {},
   "outputs": [
    {
     "ename": "TypeError",
     "evalue": "'Model' object is not iterable",
     "output_type": "error",
     "traceback": [
      "\u001b[1;31m---------------------------------------------------------------------------\u001b[0m",
      "\u001b[1;31mTypeError\u001b[0m                                 Traceback (most recent call last)",
      "\u001b[1;32m<ipython-input-7-c05b69e21f02>\u001b[0m in \u001b[0;36m<module>\u001b[1;34m\u001b[0m\n\u001b[1;32m----> 1\u001b[1;33m \u001b[1;32mwith\u001b[0m \u001b[0mMultiprocessingEvaluator\u001b[0m\u001b[1;33m(\u001b[0m\u001b[0mmodelVensim\u001b[0m\u001b[1;33m)\u001b[0m \u001b[1;32mas\u001b[0m \u001b[0mevaluator\u001b[0m\u001b[1;33m:\u001b[0m\u001b[1;33m\u001b[0m\u001b[1;33m\u001b[0m\u001b[0m\n\u001b[0m\u001b[0;32m      2\u001b[0m     \u001b[0mresults2\u001b[0m \u001b[1;33m=\u001b[0m \u001b[0mperform_experiments\u001b[0m\u001b[1;33m(\u001b[0m\u001b[0mmodelVensim\u001b[0m\u001b[1;33m,\u001b[0m \u001b[1;36m50\u001b[0m\u001b[1;33m,\u001b[0m \u001b[0mevaluator\u001b[0m\u001b[1;33m=\u001b[0m\u001b[0mevaluator\u001b[0m\u001b[1;33m)\u001b[0m\u001b[1;33m\u001b[0m\u001b[1;33m\u001b[0m\u001b[0m\n",
      "\u001b[1;32mC:\\Anaconda\\lib\\site-packages\\ema_workbench\\em_framework\\evaluators.py\u001b[0m in \u001b[0;36m__enter__\u001b[1;34m(self)\u001b[0m\n\u001b[0;32m     93\u001b[0m \u001b[1;33m\u001b[0m\u001b[0m\n\u001b[0;32m     94\u001b[0m     \u001b[1;32mdef\u001b[0m \u001b[0m__enter__\u001b[0m\u001b[1;33m(\u001b[0m\u001b[0mself\u001b[0m\u001b[1;33m)\u001b[0m\u001b[1;33m:\u001b[0m\u001b[1;33m\u001b[0m\u001b[1;33m\u001b[0m\u001b[0m\n\u001b[1;32m---> 95\u001b[1;33m         \u001b[0mself\u001b[0m\u001b[1;33m.\u001b[0m\u001b[0minitialize\u001b[0m\u001b[1;33m(\u001b[0m\u001b[1;33m)\u001b[0m\u001b[1;33m\u001b[0m\u001b[1;33m\u001b[0m\u001b[0m\n\u001b[0m\u001b[0;32m     96\u001b[0m         \u001b[1;32mreturn\u001b[0m \u001b[0mself\u001b[0m\u001b[1;33m\u001b[0m\u001b[1;33m\u001b[0m\u001b[0m\n\u001b[0;32m     97\u001b[0m \u001b[1;33m\u001b[0m\u001b[0m\n",
      "\u001b[1;32mC:\\Anaconda\\lib\\site-packages\\ema_workbench\\em_framework\\evaluators.py\u001b[0m in \u001b[0;36minitialize\u001b[1;34m(self)\u001b[0m\n\u001b[0;32m    264\u001b[0m \u001b[1;33m\u001b[0m\u001b[0m\n\u001b[0;32m    265\u001b[0m         \u001b[1;31m# check if we need a working directory\u001b[0m\u001b[1;33m\u001b[0m\u001b[1;33m\u001b[0m\u001b[1;33m\u001b[0m\u001b[0m\n\u001b[1;32m--> 266\u001b[1;33m         \u001b[1;32mfor\u001b[0m \u001b[0mmodel\u001b[0m \u001b[1;32min\u001b[0m \u001b[0mself\u001b[0m\u001b[1;33m.\u001b[0m\u001b[0m_msis\u001b[0m\u001b[1;33m:\u001b[0m\u001b[1;33m\u001b[0m\u001b[1;33m\u001b[0m\u001b[0m\n\u001b[0m\u001b[0;32m    267\u001b[0m             \u001b[1;32mtry\u001b[0m\u001b[1;33m:\u001b[0m\u001b[1;33m\u001b[0m\u001b[1;33m\u001b[0m\u001b[0m\n\u001b[0;32m    268\u001b[0m                 \u001b[0mmodel\u001b[0m\u001b[1;33m.\u001b[0m\u001b[0mworking_directory\u001b[0m\u001b[1;33m\u001b[0m\u001b[1;33m\u001b[0m\u001b[0m\n",
      "\u001b[1;31mTypeError\u001b[0m: 'Model' object is not iterable"
     ]
    }
   ],
   "source": [
    "with MultiprocessingEvaluator(modelVensim) as evaluator:\n",
    "    results2 = perform_experiments(modelVensim, 50, evaluator=evaluator)"
   ]
  },
  {
   "cell_type": "markdown",
   "metadata": {},
   "source": [
    "### Excel Model"
   ]
  },
  {
   "cell_type": "code",
   "execution_count": 9,
   "metadata": {},
   "outputs": [
    {
     "name": "stderr",
     "output_type": "stream",
     "text": [
      "[MainProcess/INFO] pool started\n",
      "[MainProcess/INFO] performing 50 scenarios * 1 policies * 1 model(s) = 50 experiments\n",
      "[MainProcess/INFO] 5 cases completed\n",
      "[MainProcess/INFO] 10 cases completed\n",
      "[MainProcess/INFO] 15 cases completed\n",
      "[MainProcess/INFO] 20 cases completed\n",
      "[MainProcess/INFO] 25 cases completed\n",
      "[MainProcess/INFO] 30 cases completed\n",
      "[MainProcess/INFO] 35 cases completed\n",
      "[MainProcess/INFO] 40 cases completed\n",
      "[MainProcess/INFO] 45 cases completed\n",
      "[MainProcess/INFO] 50 cases completed\n",
      "[MainProcess/INFO] experiments finished\n",
      "[MainProcess/INFO] terminating pool\n"
     ]
    }
   ],
   "source": [
    "with MultiprocessingEvaluator(modelExcel) as evaluator:\n",
    "    results3 = perform_experiments(modelExcel, 50, evaluator=evaluator)"
   ]
  },
  {
   "cell_type": "code",
   "execution_count": 10,
   "metadata": {},
   "outputs": [
    {
     "data": {
      "text/plain": [
       "(          B3        B4        B5        B6 scenario policy          model\n",
       " 0   0.015630  0.001135  0.001928  0.064779        0   None  PredPreyExcel\n",
       " 1   0.017008  0.001033  0.002495  0.054822        1   None  PredPreyExcel\n",
       " 2   0.033727  0.002128  0.003469  0.068647        2   None  PredPreyExcel\n",
       " 3   0.034224  0.001802  0.002632  0.043905        3   None  PredPreyExcel\n",
       " 4   0.027838  0.000837  0.003869  0.049721        4   None  PredPreyExcel\n",
       " 5   0.025057  0.002212  0.002430  0.044811        5   None  PredPreyExcel\n",
       " 6   0.030405  0.001876  0.003075  0.049324        6   None  PredPreyExcel\n",
       " 7   0.021903  0.002744  0.002356  0.058951        7   None  PredPreyExcel\n",
       " 8   0.027172  0.001472  0.003573  0.053491        8   None  PredPreyExcel\n",
       " 9   0.018891  0.000617  0.002000  0.072958        9   None  PredPreyExcel\n",
       " 10  0.021328  0.001420  0.003965  0.079349       10   None  PredPreyExcel\n",
       " 11  0.027799  0.003000  0.001862  0.067536       11   None  PredPreyExcel\n",
       " 12  0.030010  0.001088  0.003386  0.047217       12   None  PredPreyExcel\n",
       " 13  0.024485  0.002162  0.001448  0.069111       13   None  PredPreyExcel\n",
       " 14  0.020000  0.001508  0.002753  0.074626       14   None  PredPreyExcel\n",
       " 15  0.024654  0.001317  0.001668  0.048122       15   None  PredPreyExcel\n",
       " 16  0.022696  0.000664  0.002729  0.055867       16   None  PredPreyExcel\n",
       " 17  0.025493  0.000746  0.001361  0.047097       17   None  PredPreyExcel\n",
       " 18  0.017430  0.001734  0.003291  0.060240       18   None  PredPreyExcel\n",
       " 19  0.021711  0.001356  0.002924  0.054382       19   None  PredPreyExcel\n",
       " 20  0.028872  0.000554  0.001631  0.059297       20   None  PredPreyExcel\n",
       " 21  0.029270  0.000866  0.002537  0.061661       21   None  PredPreyExcel\n",
       " 22  0.026324  0.000775  0.002067  0.040334       22   None  PredPreyExcel\n",
       " 23  0.019546  0.002060  0.001255  0.065073       23   None  PredPreyExcel\n",
       " 24  0.023810  0.001575  0.003127  0.051947       24   None  PredPreyExcel\n",
       " 25  0.015074  0.002311  0.003728  0.062714       25   None  PredPreyExcel\n",
       " 26  0.017871  0.001641  0.001771  0.076293       26   None  PredPreyExcel\n",
       " 27  0.019388  0.001173  0.001564  0.056214       27   None  PredPreyExcel\n",
       " 28  0.028432  0.002046  0.001352  0.063896       28   None  PredPreyExcel\n",
       " 29  0.033132  0.001213  0.003176  0.072642       29   None  PredPreyExcel\n",
       " 30  0.026611  0.002568  0.002256  0.050635       30   None  PredPreyExcel\n",
       " 31  0.031200  0.000907  0.002810  0.066014       31   None  PredPreyExcel\n",
       " 32  0.020400  0.001796  0.003813  0.070546       32   None  PredPreyExcel\n",
       " 33  0.016864  0.002949  0.003668  0.073669       33   None  PredPreyExcel\n",
       " 34  0.031481  0.002491  0.001802  0.078458       34   None  PredPreyExcel\n",
       " 35  0.023069  0.001271  0.003604  0.078092       35   None  PredPreyExcel\n",
       " 36  0.034150  0.002521  0.003260  0.045958       36   None  PredPreyExcel\n",
       " 37  0.029792  0.002839  0.003008  0.071841       37   None  PredPreyExcel\n",
       " 38  0.020859  0.001976  0.002126  0.057308       38   None  PredPreyExcel\n",
       " 39  0.016410  0.002448  0.001080  0.069867       39   None  PredPreyExcel\n",
       " 40  0.030646  0.002607  0.002274  0.044642       40   None  PredPreyExcel\n",
       " 41  0.032896  0.002278  0.001134  0.075232       41   None  PredPreyExcel\n",
       " 42  0.022459  0.002675  0.002165  0.061593       42   None  PredPreyExcel\n",
       " 43  0.034655  0.000548  0.001029  0.042452       43   None  PredPreyExcel\n",
       " 44  0.025821  0.001935  0.003913  0.041931       44   None  PredPreyExcel\n",
       " 45  0.023445  0.002752  0.003458  0.052532       45   None  PredPreyExcel\n",
       " 46  0.018323  0.002854  0.001218  0.058400       46   None  PredPreyExcel\n",
       " 47  0.015814  0.001664  0.002619  0.077555       47   None  PredPreyExcel\n",
       " 48  0.032175  0.002363  0.001539  0.066566       48   None  PredPreyExcel\n",
       " 49  0.032266  0.000974  0.002913  0.041438       49   None  PredPreyExcel,\n",
       " {'B14:BDF14': array([[[0.0000e+00, 2.5000e-01, 5.0000e-01, ..., 3.6450e+02,\n",
       "           3.6475e+02, 3.6500e+02]],\n",
       "  \n",
       "         [[0.0000e+00, 2.5000e-01, 5.0000e-01, ..., 3.6450e+02,\n",
       "           3.6475e+02, 3.6500e+02]],\n",
       "  \n",
       "         [[0.0000e+00, 2.5000e-01, 5.0000e-01, ..., 3.6450e+02,\n",
       "           3.6475e+02, 3.6500e+02]],\n",
       "  \n",
       "         ...,\n",
       "  \n",
       "         [[0.0000e+00, 2.5000e-01, 5.0000e-01, ..., 3.6450e+02,\n",
       "           3.6475e+02, 3.6500e+02]],\n",
       "  \n",
       "         [[0.0000e+00, 2.5000e-01, 5.0000e-01, ..., 3.6450e+02,\n",
       "           3.6475e+02, 3.6500e+02]],\n",
       "  \n",
       "         [[0.0000e+00, 2.5000e-01, 5.0000e-01, ..., 3.6450e+02,\n",
       "           3.6475e+02, 3.6500e+02]]]),\n",
       "  'B18:BDF18': array([[[20.        , 20.15812967, 20.31665192, ...,  4.65026961,\n",
       "            4.66531318,  4.68064004]],\n",
       "  \n",
       "         [[20.        , 20.34958533, 20.70470185, ...,  3.03729044,\n",
       "            3.01507616,  2.99309117]],\n",
       "  \n",
       "         [[20.        , 20.52390403, 21.05956533, ..., 10.17615972,\n",
       "           10.04087951,  9.90751489]],\n",
       "  \n",
       "         ...,\n",
       "  \n",
       "         [[20.        , 20.26693994, 20.53454616, ...,  1.835832  ,\n",
       "            1.85342099,  1.87134977]],\n",
       "  \n",
       "         [[20.        , 20.0519539 , 20.10258705, ...,  7.9533561 ,\n",
       "            7.96547287,  7.97809201]],\n",
       "  \n",
       "         [[20.        , 20.52095661, 21.05787268, ...,  2.98673136,\n",
       "            2.9677131 ,  2.94890289]]]),\n",
       "  'B17:BDF17': array([[[50.        , 49.91173338, 49.82138396, ..., 40.30862709,\n",
       "           40.41296326, 40.51739707]],\n",
       "  \n",
       "         [[50.        , 49.95435633, 49.90424462, ..., 10.24817031,\n",
       "           10.28370639, 10.31942468]],\n",
       "  \n",
       "         [[50.        , 49.88950484, 49.76534657, ...,  4.46055753,\n",
       "            4.47401603,  4.48783718]],\n",
       "  \n",
       "         ...,\n",
       "  \n",
       "         [[50.        , 49.78170553, 49.55883648, ..., 44.24778263,\n",
       "           44.38892226, 44.53018732]],\n",
       "  \n",
       "         [[50.        , 49.81133116, 49.62184518, ..., 47.20827506,\n",
       "           47.36615864, 47.52423115]],\n",
       "  \n",
       "         [[50.        , 50.15992561, 50.31400236, ...,  5.4824151 ,\n",
       "            5.52265372,  5.56321325]]])})"
      ]
     },
     "execution_count": 10,
     "metadata": {},
     "output_type": "execute_result"
    }
   ],
   "source": [
    "results3"
   ]
  },
  {
   "cell_type": "markdown",
   "metadata": {},
   "source": [
    "### NetLogo Model"
   ]
  },
  {
   "cell_type": "code",
   "execution_count": null,
   "metadata": {},
   "outputs": [
    {
     "name": "stderr",
     "output_type": "stream",
     "text": [
      "[MainProcess/INFO] pool started\n",
      "[MainProcess/INFO] performing 50 scenarios * 1 policies * 1 model(s) = 50 experiments\n"
     ]
    }
   ],
   "source": [
    "#with MultiprocessingEvaluator(modelNetlogo) as evaluator:\n",
    "#    results4 = perform_experiments(modelNetlogo, 50, evaluator=evaluator)\n",
    "    \n",
    "with MultiprocessingEvaluator(modelNetlogo, n_processes=2, maxtasksperchild=4) as evaluator:\n",
    "    results4 = evaluator.perform_experiments(50)"
   ]
  }
 ],
 "metadata": {
  "kernelspec": {
   "display_name": "Python 3",
   "language": "python",
   "name": "python3"
  },
  "language_info": {
   "codemirror_mode": {
    "name": "ipython",
    "version": 3
   },
   "file_extension": ".py",
   "mimetype": "text/x-python",
   "name": "python",
   "nbconvert_exporter": "python",
   "pygments_lexer": "ipython3",
   "version": "3.7.3"
  }
 },
 "nbformat": 4,
 "nbformat_minor": 4
}
