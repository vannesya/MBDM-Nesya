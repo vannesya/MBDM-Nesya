{
 "cells": [
  {
   "cell_type": "markdown",
   "metadata": {},
   "source": [
    "# Lake model continued\n",
    "\n",
    "In the previous week you used the lake problem as a means of getting aquinted with the workbench. In this assignment we will continue with the lake problem, focussing explicitly on using it for open exploration. You can use the second part of [this tutoria](https://emaworkbench.readthedocs.io/en/latest/indepth_tutorial/open-exploration.html) for help.\n",
    "\n",
    "**It is paramount that you are using the lake problem with 100 decision variables, rather than the one found on the website with the seperate anthropogenic release decision**\n",
    "\n",
    "## Apply sensitivity analysis\n",
    "There is substantial support in the ema_workbench for global sensitivity. For this, the workbench relies on [SALib](https://salib.readthedocs.io/en/latest/) and feature scoring which is a machine learning alternative for global sensitivity analysis. \n",
    "\n",
    "\n",
    "1. Apply Sobol with 3 seperate release policies (0, 0.05, and 0.1) and analyse the results for each release policy seperately focusing on the reliability objective. Do the sensitivities change depending on the release policy? Can you explain why or why not?\n",
    "\n",
    "*hint: you can use sobol sampling for the uncertainties, and set policies to a list with the 3 different release policies. Next, for the analysis using logical indexing on the experiment.policy column you can select the results for each seperate release policy and apply sobol to each of the three seperate release policies. If this sounds too complicated, just do it on each release policy seperately.*\n",
    "\n"
   ]
  },
  {
   "cell_type": "code",
   "execution_count": 49,
   "metadata": {},
   "outputs": [],
   "source": [
    "import os\n",
    "import pandas as pd\n",
    "import seaborn as sns\n",
    "import matplotlib.pyplot as plt\n",
    "import numpy as np\n",
    "\n",
    "#The model is created for each decision release\n",
    "from lakemodel_function_0 import lake_problem0\n",
    "from lakemodel_function_005 import lake_problem005\n",
    "from lakemodel_function_01 import lake_problem01\n",
    "\n",
    "from ema_workbench import (SequentialEvaluator, Model, RealParameter, TimeSeriesOutcome, \n",
    "                           ArrayOutcome, ScalarOutcome, ema_logging, MultiprocessingEvaluator,\n",
    "                           perform_experiments)\n",
    "from ema_workbench.analysis import cart, prim, dimensional_stacking, feature_scoring\n",
    "ema_logging.log_to_stderr(ema_logging.INFO);\n",
    "from SALib.analyze import sobol\n",
    "from ema_workbench.em_framework.salib_samplers import get_SALib_problem"
   ]
  },
  {
   "cell_type": "markdown",
   "metadata": {},
   "source": [
    "### Release Policy 0"
   ]
  },
  {
   "cell_type": "code",
   "execution_count": 51,
   "metadata": {},
   "outputs": [],
   "source": [
    "#instantiate the model\n",
    "model0 = Model('LakeProblem0', function=lake_problem0)\n",
    "model0.time_horizon = 100 # used to specify the number of timesteps\n",
    "\n",
    "#specify uncertainties\n",
    "model0.uncertainties = [RealParameter('b', 0.1, 0.45), RealParameter('mean', 0.01, 0.05), \n",
    "                       RealParameter('stdev', 0.001, 0.005), RealParameter('delta', 0.93, 0.99), \n",
    "                       RealParameter('q', 2, 4.5)]\n",
    "\n",
    "#specify outcomes \n",
    "model0.outcomes = [ScalarOutcome('max_P'), ScalarOutcome('utility'), ScalarOutcome('inertia'), ScalarOutcome('reliability')]"
   ]
  },
  {
   "cell_type": "code",
   "execution_count": 52,
   "metadata": {},
   "outputs": [
    {
     "name": "stderr",
     "output_type": "stream",
     "text": [
      "[MainProcess/INFO] pool started\n",
      "[MainProcess/INFO] performing 12000 scenarios * 1 policies * 1 model(s) = 12000 experiments\n",
      "[MainProcess/INFO] 1200 cases completed\n",
      "[MainProcess/INFO] 2400 cases completed\n",
      "[MainProcess/INFO] 3600 cases completed\n",
      "[MainProcess/INFO] 4800 cases completed\n",
      "[MainProcess/INFO] 6000 cases completed\n",
      "[MainProcess/INFO] 7200 cases completed\n",
      "[MainProcess/INFO] 8400 cases completed\n",
      "[MainProcess/INFO] 9600 cases completed\n",
      "[MainProcess/INFO] 10800 cases completed\n",
      "[MainProcess/INFO] 12000 cases completed\n",
      "[MainProcess/INFO] experiments finished\n",
      "[MainProcess/INFO] terminating pool\n"
     ]
    }
   ],
   "source": [
    "with MultiprocessingEvaluator(model0) as evaluator:\n",
    "    sa_results = evaluator.perform_experiments(scenarios=1000,\n",
    "                                               uncertainty_sampling='sobol')\n",
    "\n",
    "experiments0, outcomes0 = sa_results\n",
    "\n",
    "problem0 = get_SALib_problem(model0.uncertainties)\n",
    "Si0 = sobol.analyze(problem0, outcomes0['reliability'],\n",
    "                   calc_second_order=True, print_to_console=False)"
   ]
  },
  {
   "cell_type": "code",
   "execution_count": 53,
   "metadata": {},
   "outputs": [
    {
     "data": {
      "text/html": [
       "<div>\n",
       "<style scoped>\n",
       "    .dataframe tbody tr th:only-of-type {\n",
       "        vertical-align: middle;\n",
       "    }\n",
       "\n",
       "    .dataframe tbody tr th {\n",
       "        vertical-align: top;\n",
       "    }\n",
       "\n",
       "    .dataframe thead th {\n",
       "        text-align: right;\n",
       "    }\n",
       "</style>\n",
       "<table border=\"1\" class=\"dataframe\">\n",
       "  <thead>\n",
       "    <tr style=\"text-align: right;\">\n",
       "      <th></th>\n",
       "      <th>b</th>\n",
       "      <th>delta</th>\n",
       "      <th>mean</th>\n",
       "      <th>q</th>\n",
       "      <th>stdev</th>\n",
       "      <th>scenario</th>\n",
       "      <th>policy</th>\n",
       "      <th>model</th>\n",
       "    </tr>\n",
       "  </thead>\n",
       "  <tbody>\n",
       "    <tr>\n",
       "      <th>0</th>\n",
       "      <td>0.176904</td>\n",
       "      <td>0.935801</td>\n",
       "      <td>0.030742</td>\n",
       "      <td>3.691895</td>\n",
       "      <td>0.002121</td>\n",
       "      <td>36000</td>\n",
       "      <td>None</td>\n",
       "      <td>LakeProblem0</td>\n",
       "    </tr>\n",
       "    <tr>\n",
       "      <th>1</th>\n",
       "      <td>0.417529</td>\n",
       "      <td>0.935801</td>\n",
       "      <td>0.030742</td>\n",
       "      <td>3.691895</td>\n",
       "      <td>0.002121</td>\n",
       "      <td>36001</td>\n",
       "      <td>None</td>\n",
       "      <td>LakeProblem0</td>\n",
       "    </tr>\n",
       "    <tr>\n",
       "      <th>2</th>\n",
       "      <td>0.176904</td>\n",
       "      <td>0.932754</td>\n",
       "      <td>0.030742</td>\n",
       "      <td>3.691895</td>\n",
       "      <td>0.002121</td>\n",
       "      <td>36002</td>\n",
       "      <td>None</td>\n",
       "      <td>LakeProblem0</td>\n",
       "    </tr>\n",
       "    <tr>\n",
       "      <th>3</th>\n",
       "      <td>0.176904</td>\n",
       "      <td>0.935801</td>\n",
       "      <td>0.045977</td>\n",
       "      <td>3.691895</td>\n",
       "      <td>0.002121</td>\n",
       "      <td>36003</td>\n",
       "      <td>None</td>\n",
       "      <td>LakeProblem0</td>\n",
       "    </tr>\n",
       "    <tr>\n",
       "      <th>4</th>\n",
       "      <td>0.176904</td>\n",
       "      <td>0.935801</td>\n",
       "      <td>0.030742</td>\n",
       "      <td>3.252441</td>\n",
       "      <td>0.002121</td>\n",
       "      <td>36004</td>\n",
       "      <td>None</td>\n",
       "      <td>LakeProblem0</td>\n",
       "    </tr>\n",
       "    <tr>\n",
       "      <th>...</th>\n",
       "      <td>...</td>\n",
       "      <td>...</td>\n",
       "      <td>...</td>\n",
       "      <td>...</td>\n",
       "      <td>...</td>\n",
       "      <td>...</td>\n",
       "      <td>...</td>\n",
       "      <td>...</td>\n",
       "    </tr>\n",
       "    <tr>\n",
       "      <th>11995</th>\n",
       "      <td>0.357544</td>\n",
       "      <td>0.966709</td>\n",
       "      <td>0.029395</td>\n",
       "      <td>3.075439</td>\n",
       "      <td>0.002346</td>\n",
       "      <td>47995</td>\n",
       "      <td>None</td>\n",
       "      <td>LakeProblem0</td>\n",
       "    </tr>\n",
       "    <tr>\n",
       "      <th>11996</th>\n",
       "      <td>0.357544</td>\n",
       "      <td>0.951123</td>\n",
       "      <td>0.015371</td>\n",
       "      <td>3.075439</td>\n",
       "      <td>0.002346</td>\n",
       "      <td>47996</td>\n",
       "      <td>None</td>\n",
       "      <td>LakeProblem0</td>\n",
       "    </tr>\n",
       "    <tr>\n",
       "      <th>11997</th>\n",
       "      <td>0.357544</td>\n",
       "      <td>0.951123</td>\n",
       "      <td>0.029395</td>\n",
       "      <td>3.229248</td>\n",
       "      <td>0.002346</td>\n",
       "      <td>47997</td>\n",
       "      <td>None</td>\n",
       "      <td>LakeProblem0</td>\n",
       "    </tr>\n",
       "    <tr>\n",
       "      <th>11998</th>\n",
       "      <td>0.357544</td>\n",
       "      <td>0.951123</td>\n",
       "      <td>0.029395</td>\n",
       "      <td>3.075439</td>\n",
       "      <td>0.004209</td>\n",
       "      <td>47998</td>\n",
       "      <td>None</td>\n",
       "      <td>LakeProblem0</td>\n",
       "    </tr>\n",
       "    <tr>\n",
       "      <th>11999</th>\n",
       "      <td>0.357544</td>\n",
       "      <td>0.951123</td>\n",
       "      <td>0.029395</td>\n",
       "      <td>3.075439</td>\n",
       "      <td>0.002346</td>\n",
       "      <td>47999</td>\n",
       "      <td>None</td>\n",
       "      <td>LakeProblem0</td>\n",
       "    </tr>\n",
       "  </tbody>\n",
       "</table>\n",
       "<p>12000 rows × 8 columns</p>\n",
       "</div>"
      ],
      "text/plain": [
       "              b     delta      mean         q     stdev scenario policy  \\\n",
       "0      0.176904  0.935801  0.030742  3.691895  0.002121    36000   None   \n",
       "1      0.417529  0.935801  0.030742  3.691895  0.002121    36001   None   \n",
       "2      0.176904  0.932754  0.030742  3.691895  0.002121    36002   None   \n",
       "3      0.176904  0.935801  0.045977  3.691895  0.002121    36003   None   \n",
       "4      0.176904  0.935801  0.030742  3.252441  0.002121    36004   None   \n",
       "...         ...       ...       ...       ...       ...      ...    ...   \n",
       "11995  0.357544  0.966709  0.029395  3.075439  0.002346    47995   None   \n",
       "11996  0.357544  0.951123  0.015371  3.075439  0.002346    47996   None   \n",
       "11997  0.357544  0.951123  0.029395  3.229248  0.002346    47997   None   \n",
       "11998  0.357544  0.951123  0.029395  3.075439  0.004209    47998   None   \n",
       "11999  0.357544  0.951123  0.029395  3.075439  0.002346    47999   None   \n",
       "\n",
       "              model  \n",
       "0      LakeProblem0  \n",
       "1      LakeProblem0  \n",
       "2      LakeProblem0  \n",
       "3      LakeProblem0  \n",
       "4      LakeProblem0  \n",
       "...             ...  \n",
       "11995  LakeProblem0  \n",
       "11996  LakeProblem0  \n",
       "11997  LakeProblem0  \n",
       "11998  LakeProblem0  \n",
       "11999  LakeProblem0  \n",
       "\n",
       "[12000 rows x 8 columns]"
      ]
     },
     "execution_count": 53,
     "metadata": {},
     "output_type": "execute_result"
    }
   ],
   "source": [
    "experiments0"
   ]
  },
  {
   "cell_type": "code",
   "execution_count": 54,
   "metadata": {},
   "outputs": [
    {
     "data": {
      "image/png": "[encoded data removed]",
      "text/plain": [
       "<Figure size 576x432 with 1 Axes>"
      ]
     },
     "metadata": {},
     "output_type": "display_data"
    }
   ],
   "source": [
    "scores_filtered0 = {k:Si0[k] for k in ['ST','ST_conf','S1','S1_conf']}\n",
    "Si0_df = pd.DataFrame(scores_filtered0, index=problem0['names'])\n",
    "\n",
    "sns.set_style('white')\n",
    "fig, ax0 = plt.subplots(1)\n",
    "\n",
    "indices0 = Si0_df[['S1','ST']]\n",
    "err0 = Si0_df[['S1_conf','ST_conf']]\n",
    "\n",
    "indices0.plot.bar(yerr=err0.values.T,ax=ax0)\n",
    "fig.set_size_inches(8,6)\n",
    "fig.subplots_adjust(bottom=0.3)\n",
    "plt.show()"
   ]
  },
  {
   "cell_type": "markdown",
   "metadata": {},
   "source": [
    "### Release Policy 0.05"
   ]
  },
  {
   "cell_type": "code",
   "execution_count": 55,
   "metadata": {},
   "outputs": [],
   "source": [
    "#instantiate the model\n",
    "model005 = Model('LakeProblem005', function=lake_problem005)\n",
    "model005.time_horizon = 100 # used to specify the number of timesteps\n",
    "\n",
    "#specify uncertainties\n",
    "model005.uncertainties = [RealParameter('b', 0.1, 0.45), RealParameter('mean', 0.01, 0.05), \n",
    "                       RealParameter('stdev', 0.001, 0.005), RealParameter('delta', 0.93, 0.99), \n",
    "                       RealParameter('q', 2, 4.5)]\n",
    "\n",
    "#specify outcomes \n",
    "model005.outcomes = [ScalarOutcome('max_P'), ScalarOutcome('utility'), ScalarOutcome('inertia'), ScalarOutcome('reliability')]"
   ]
  },
  {
   "cell_type": "code",
   "execution_count": 56,
   "metadata": {},
   "outputs": [
    {
     "name": "stderr",
     "output_type": "stream",
     "text": [
      "[MainProcess/INFO] pool started\n",
      "[MainProcess/INFO] performing 12000 scenarios * 1 policies * 1 model(s) = 12000 experiments\n",
      "[MainProcess/INFO] 1200 cases completed\n",
      "[MainProcess/INFO] 2400 cases completed\n",
      "[MainProcess/INFO] 3600 cases completed\n",
      "[MainProcess/INFO] 4800 cases completed\n",
      "[MainProcess/INFO] 6000 cases completed\n",
      "[MainProcess/INFO] 7200 cases completed\n",
      "[MainProcess/INFO] 8400 cases completed\n",
      "[MainProcess/INFO] 9600 cases completed\n",
      "[MainProcess/INFO] 10800 cases completed\n",
      "[MainProcess/INFO] 12000 cases completed\n",
      "[MainProcess/INFO] experiments finished\n",
      "[MainProcess/INFO] terminating pool\n"
     ]
    }
   ],
   "source": [
    "with MultiprocessingEvaluator(model005) as evaluator:\n",
    "    sa_results = evaluator.perform_experiments(scenarios=1000,\n",
    "                                               uncertainty_sampling='sobol')\n",
    "\n",
    "experiments005, outcomes005 = sa_results\n",
    "\n",
    "problem005 = get_SALib_problem(model005.uncertainties)\n",
    "Si005 = sobol.analyze(problem005, outcomes005['reliability'],\n",
    "                   calc_second_order=True, print_to_console=False)"
   ]
  },
  {
   "cell_type": "code",
   "execution_count": 57,
   "metadata": {},
   "outputs": [
    {
     "data": {
      "text/html": [
       "<div>\n",
       "<style scoped>\n",
       "    .dataframe tbody tr th:only-of-type {\n",
       "        vertical-align: middle;\n",
       "    }\n",
       "\n",
       "    .dataframe tbody tr th {\n",
       "        vertical-align: top;\n",
       "    }\n",
       "\n",
       "    .dataframe thead th {\n",
       "        text-align: right;\n",
       "    }\n",
       "</style>\n",
       "<table border=\"1\" class=\"dataframe\">\n",
       "  <thead>\n",
       "    <tr style=\"text-align: right;\">\n",
       "      <th></th>\n",
       "      <th>b</th>\n",
       "      <th>delta</th>\n",
       "      <th>mean</th>\n",
       "      <th>q</th>\n",
       "      <th>stdev</th>\n",
       "      <th>scenario</th>\n",
       "      <th>policy</th>\n",
       "      <th>model</th>\n",
       "    </tr>\n",
       "  </thead>\n",
       "  <tbody>\n",
       "    <tr>\n",
       "      <th>0</th>\n",
       "      <td>0.176904</td>\n",
       "      <td>0.935801</td>\n",
       "      <td>0.030742</td>\n",
       "      <td>3.691895</td>\n",
       "      <td>0.002121</td>\n",
       "      <td>48000</td>\n",
       "      <td>None</td>\n",
       "      <td>LakeProblem005</td>\n",
       "    </tr>\n",
       "    <tr>\n",
       "      <th>1</th>\n",
       "      <td>0.417529</td>\n",
       "      <td>0.935801</td>\n",
       "      <td>0.030742</td>\n",
       "      <td>3.691895</td>\n",
       "      <td>0.002121</td>\n",
       "      <td>48001</td>\n",
       "      <td>None</td>\n",
       "      <td>LakeProblem005</td>\n",
       "    </tr>\n",
       "    <tr>\n",
       "      <th>2</th>\n",
       "      <td>0.176904</td>\n",
       "      <td>0.932754</td>\n",
       "      <td>0.030742</td>\n",
       "      <td>3.691895</td>\n",
       "      <td>0.002121</td>\n",
       "      <td>48002</td>\n",
       "      <td>None</td>\n",
       "      <td>LakeProblem005</td>\n",
       "    </tr>\n",
       "    <tr>\n",
       "      <th>3</th>\n",
       "      <td>0.176904</td>\n",
       "      <td>0.935801</td>\n",
       "      <td>0.045977</td>\n",
       "      <td>3.691895</td>\n",
       "      <td>0.002121</td>\n",
       "      <td>48003</td>\n",
       "      <td>None</td>\n",
       "      <td>LakeProblem005</td>\n",
       "    </tr>\n",
       "    <tr>\n",
       "      <th>4</th>\n",
       "      <td>0.176904</td>\n",
       "      <td>0.935801</td>\n",
       "      <td>0.030742</td>\n",
       "      <td>3.252441</td>\n",
       "      <td>0.002121</td>\n",
       "      <td>48004</td>\n",
       "      <td>None</td>\n",
       "      <td>LakeProblem005</td>\n",
       "    </tr>\n",
       "    <tr>\n",
       "      <th>...</th>\n",
       "      <td>...</td>\n",
       "      <td>...</td>\n",
       "      <td>...</td>\n",
       "      <td>...</td>\n",
       "      <td>...</td>\n",
       "      <td>...</td>\n",
       "      <td>...</td>\n",
       "      <td>...</td>\n",
       "    </tr>\n",
       "    <tr>\n",
       "      <th>11995</th>\n",
       "      <td>0.357544</td>\n",
       "      <td>0.966709</td>\n",
       "      <td>0.029395</td>\n",
       "      <td>3.075439</td>\n",
       "      <td>0.002346</td>\n",
       "      <td>59995</td>\n",
       "      <td>None</td>\n",
       "      <td>LakeProblem005</td>\n",
       "    </tr>\n",
       "    <tr>\n",
       "      <th>11996</th>\n",
       "      <td>0.357544</td>\n",
       "      <td>0.951123</td>\n",
       "      <td>0.015371</td>\n",
       "      <td>3.075439</td>\n",
       "      <td>0.002346</td>\n",
       "      <td>59996</td>\n",
       "      <td>None</td>\n",
       "      <td>LakeProblem005</td>\n",
       "    </tr>\n",
       "    <tr>\n",
       "      <th>11997</th>\n",
       "      <td>0.357544</td>\n",
       "      <td>0.951123</td>\n",
       "      <td>0.029395</td>\n",
       "      <td>3.229248</td>\n",
       "      <td>0.002346</td>\n",
       "      <td>59997</td>\n",
       "      <td>None</td>\n",
       "      <td>LakeProblem005</td>\n",
       "    </tr>\n",
       "    <tr>\n",
       "      <th>11998</th>\n",
       "      <td>0.357544</td>\n",
       "      <td>0.951123</td>\n",
       "      <td>0.029395</td>\n",
       "      <td>3.075439</td>\n",
       "      <td>0.004209</td>\n",
       "      <td>59998</td>\n",
       "      <td>None</td>\n",
       "      <td>LakeProblem005</td>\n",
       "    </tr>\n",
       "    <tr>\n",
       "      <th>11999</th>\n",
       "      <td>0.357544</td>\n",
       "      <td>0.951123</td>\n",
       "      <td>0.029395</td>\n",
       "      <td>3.075439</td>\n",
       "      <td>0.002346</td>\n",
       "      <td>59999</td>\n",
       "      <td>None</td>\n",
       "      <td>LakeProblem005</td>\n",
       "    </tr>\n",
       "  </tbody>\n",
       "</table>\n",
       "<p>12000 rows × 8 columns</p>\n",
       "</div>"
      ],
      "text/plain": [
       "              b     delta      mean         q     stdev scenario policy  \\\n",
       "0      0.176904  0.935801  0.030742  3.691895  0.002121    48000   None   \n",
       "1      0.417529  0.935801  0.030742  3.691895  0.002121    48001   None   \n",
       "2      0.176904  0.932754  0.030742  3.691895  0.002121    48002   None   \n",
       "3      0.176904  0.935801  0.045977  3.691895  0.002121    48003   None   \n",
       "4      0.176904  0.935801  0.030742  3.252441  0.002121    48004   None   \n",
       "...         ...       ...       ...       ...       ...      ...    ...   \n",
       "11995  0.357544  0.966709  0.029395  3.075439  0.002346    59995   None   \n",
       "11996  0.357544  0.951123  0.015371  3.075439  0.002346    59996   None   \n",
       "11997  0.357544  0.951123  0.029395  3.229248  0.002346    59997   None   \n",
       "11998  0.357544  0.951123  0.029395  3.075439  0.004209    59998   None   \n",
       "11999  0.357544  0.951123  0.029395  3.075439  0.002346    59999   None   \n",
       "\n",
       "                model  \n",
       "0      LakeProblem005  \n",
       "1      LakeProblem005  \n",
       "2      LakeProblem005  \n",
       "3      LakeProblem005  \n",
       "4      LakeProblem005  \n",
       "...               ...  \n",
       "11995  LakeProblem005  \n",
       "11996  LakeProblem005  \n",
       "11997  LakeProblem005  \n",
       "11998  LakeProblem005  \n",
       "11999  LakeProblem005  \n",
       "\n",
       "[12000 rows x 8 columns]"
      ]
     },
     "execution_count": 57,
     "metadata": {},
     "output_type": "execute_result"
    }
   ],
   "source": [
    "experiments005"
   ]
  },
  {
   "cell_type": "code",
   "execution_count": 58,
   "metadata": {},
   "outputs": [
    {
     "data": {
      "image/png": "[encoded data removed]",
      "text/plain": [
       "<Figure size 576x432 with 1 Axes>"
      ]
     },
     "metadata": {},
     "output_type": "display_data"
    }
   ],
   "source": [
    "scores_filtered005 = {k:Si005[k] for k in ['ST','ST_conf','S1','S1_conf']}\n",
    "Si005_df = pd.DataFrame(scores_filtered005, index=problem005['names'])\n",
    "\n",
    "sns.set_style('white')\n",
    "fig, ax005 = plt.subplots(1)\n",
    "\n",
    "indices005 = Si005_df[['S1','ST']]\n",
    "err005 = Si005_df[['S1_conf','ST_conf']]\n",
    "\n",
    "indices005.plot.bar(yerr=err005.values.T,ax=ax005)\n",
    "fig.set_size_inches(8,6)\n",
    "fig.subplots_adjust(bottom=0.3)\n",
    "plt.show()"
   ]
  },
  {
   "cell_type": "markdown",
   "metadata": {},
   "source": [
    "### Release Policy 0.1"
   ]
  },
  {
   "cell_type": "code",
   "execution_count": 59,
   "metadata": {},
   "outputs": [],
   "source": [
    "#instantiate the model\n",
    "model01 = Model('LakeProblem01', function=lake_problem01)\n",
    "model01.time_horizon = 100 # used to specify the number of timesteps\n",
    "\n",
    "#specify uncertainties\n",
    "model01.uncertainties = [RealParameter('b', 0.1, 0.45), RealParameter('mean', 0.01, 0.05), \n",
    "                       RealParameter('stdev', 0.001, 0.005), RealParameter('delta', 0.93, 0.99), \n",
    "                       RealParameter('q', 2, 4.5)]\n",
    "\n",
    "#specify outcomes \n",
    "model01.outcomes = [ScalarOutcome('max_P'), ScalarOutcome('utility'), ScalarOutcome('inertia'), ScalarOutcome('reliability')]"
   ]
  },
  {
   "cell_type": "code",
   "execution_count": 60,
   "metadata": {
    "scrolled": true
   },
   "outputs": [
    {
     "name": "stderr",
     "output_type": "stream",
     "text": [
      "[MainProcess/INFO] pool started\n",
      "[MainProcess/INFO] performing 12000 scenarios * 1 policies * 1 model(s) = 12000 experiments\n",
      "[MainProcess/INFO] 1200 cases completed\n",
      "[MainProcess/INFO] 2400 cases completed\n",
      "[MainProcess/INFO] 3600 cases completed\n",
      "[MainProcess/INFO] 4800 cases completed\n",
      "[MainProcess/INFO] 6000 cases completed\n",
      "[MainProcess/INFO] 7200 cases completed\n",
      "[MainProcess/INFO] 8400 cases completed\n",
      "[MainProcess/INFO] 9600 cases completed\n",
      "[MainProcess/INFO] 10800 cases completed\n",
      "[MainProcess/INFO] 12000 cases completed\n",
      "[MainProcess/INFO] experiments finished\n",
      "[MainProcess/INFO] terminating pool\n"
     ]
    }
   ],
   "source": [
    "with MultiprocessingEvaluator(model01) as evaluator:\n",
    "    sa_results = evaluator.perform_experiments(scenarios=1000,\n",
    "                                               uncertainty_sampling='sobol')\n",
    "\n",
    "experiments01, outcomes01 = sa_results\n",
    "\n",
    "problem01 = get_SALib_problem(model01.uncertainties)\n",
    "Si01 = sobol.analyze(problem01, outcomes01['reliability'],\n",
    "                   calc_second_order=True, print_to_console=False)"
   ]
  },
  {
   "cell_type": "code",
   "execution_count": 83,
   "metadata": {},
   "outputs": [
    {
     "data": {
      "text/html": [
       "<div>\n",
       "<style scoped>\n",
       "    .dataframe tbody tr th:only-of-type {\n",
       "        vertical-align: middle;\n",
       "    }\n",
       "\n",
       "    .dataframe tbody tr th {\n",
       "        vertical-align: top;\n",
       "    }\n",
       "\n",
       "    .dataframe thead th {\n",
       "        text-align: right;\n",
       "    }\n",
       "</style>\n",
       "<table border=\"1\" class=\"dataframe\">\n",
       "  <thead>\n",
       "    <tr style=\"text-align: right;\">\n",
       "      <th></th>\n",
       "      <th>b</th>\n",
       "      <th>delta</th>\n",
       "      <th>mean</th>\n",
       "      <th>q</th>\n",
       "      <th>stdev</th>\n",
       "      <th>scenario</th>\n",
       "      <th>policy</th>\n",
       "      <th>model</th>\n",
       "    </tr>\n",
       "  </thead>\n",
       "  <tbody>\n",
       "    <tr>\n",
       "      <th>0</th>\n",
       "      <td>0.176904</td>\n",
       "      <td>0.935801</td>\n",
       "      <td>0.030742</td>\n",
       "      <td>3.691895</td>\n",
       "      <td>0.002121</td>\n",
       "      <td>60000</td>\n",
       "      <td>None</td>\n",
       "      <td>LakeProblem01</td>\n",
       "    </tr>\n",
       "    <tr>\n",
       "      <th>1</th>\n",
       "      <td>0.417529</td>\n",
       "      <td>0.935801</td>\n",
       "      <td>0.030742</td>\n",
       "      <td>3.691895</td>\n",
       "      <td>0.002121</td>\n",
       "      <td>60001</td>\n",
       "      <td>None</td>\n",
       "      <td>LakeProblem01</td>\n",
       "    </tr>\n",
       "    <tr>\n",
       "      <th>2</th>\n",
       "      <td>0.176904</td>\n",
       "      <td>0.932754</td>\n",
       "      <td>0.030742</td>\n",
       "      <td>3.691895</td>\n",
       "      <td>0.002121</td>\n",
       "      <td>60002</td>\n",
       "      <td>None</td>\n",
       "      <td>LakeProblem01</td>\n",
       "    </tr>\n",
       "    <tr>\n",
       "      <th>3</th>\n",
       "      <td>0.176904</td>\n",
       "      <td>0.935801</td>\n",
       "      <td>0.045977</td>\n",
       "      <td>3.691895</td>\n",
       "      <td>0.002121</td>\n",
       "      <td>60003</td>\n",
       "      <td>None</td>\n",
       "      <td>LakeProblem01</td>\n",
       "    </tr>\n",
       "    <tr>\n",
       "      <th>4</th>\n",
       "      <td>0.176904</td>\n",
       "      <td>0.935801</td>\n",
       "      <td>0.030742</td>\n",
       "      <td>3.252441</td>\n",
       "      <td>0.002121</td>\n",
       "      <td>60004</td>\n",
       "      <td>None</td>\n",
       "      <td>LakeProblem01</td>\n",
       "    </tr>\n",
       "    <tr>\n",
       "      <th>...</th>\n",
       "      <td>...</td>\n",
       "      <td>...</td>\n",
       "      <td>...</td>\n",
       "      <td>...</td>\n",
       "      <td>...</td>\n",
       "      <td>...</td>\n",
       "      <td>...</td>\n",
       "      <td>...</td>\n",
       "    </tr>\n",
       "    <tr>\n",
       "      <th>11995</th>\n",
       "      <td>0.357544</td>\n",
       "      <td>0.966709</td>\n",
       "      <td>0.029395</td>\n",
       "      <td>3.075439</td>\n",
       "      <td>0.002346</td>\n",
       "      <td>71995</td>\n",
       "      <td>None</td>\n",
       "      <td>LakeProblem01</td>\n",
       "    </tr>\n",
       "    <tr>\n",
       "      <th>11996</th>\n",
       "      <td>0.357544</td>\n",
       "      <td>0.951123</td>\n",
       "      <td>0.015371</td>\n",
       "      <td>3.075439</td>\n",
       "      <td>0.002346</td>\n",
       "      <td>71996</td>\n",
       "      <td>None</td>\n",
       "      <td>LakeProblem01</td>\n",
       "    </tr>\n",
       "    <tr>\n",
       "      <th>11997</th>\n",
       "      <td>0.357544</td>\n",
       "      <td>0.951123</td>\n",
       "      <td>0.029395</td>\n",
       "      <td>3.229248</td>\n",
       "      <td>0.002346</td>\n",
       "      <td>71997</td>\n",
       "      <td>None</td>\n",
       "      <td>LakeProblem01</td>\n",
       "    </tr>\n",
       "    <tr>\n",
       "      <th>11998</th>\n",
       "      <td>0.357544</td>\n",
       "      <td>0.951123</td>\n",
       "      <td>0.029395</td>\n",
       "      <td>3.075439</td>\n",
       "      <td>0.004209</td>\n",
       "      <td>71998</td>\n",
       "      <td>None</td>\n",
       "      <td>LakeProblem01</td>\n",
       "    </tr>\n",
       "    <tr>\n",
       "      <th>11999</th>\n",
       "      <td>0.357544</td>\n",
       "      <td>0.951123</td>\n",
       "      <td>0.029395</td>\n",
       "      <td>3.075439</td>\n",
       "      <td>0.002346</td>\n",
       "      <td>71999</td>\n",
       "      <td>None</td>\n",
       "      <td>LakeProblem01</td>\n",
       "    </tr>\n",
       "  </tbody>\n",
       "</table>\n",
       "<p>12000 rows × 8 columns</p>\n",
       "</div>"
      ],
      "text/plain": [
       "              b     delta      mean         q     stdev scenario policy  \\\n",
       "0      0.176904  0.935801  0.030742  3.691895  0.002121    60000   None   \n",
       "1      0.417529  0.935801  0.030742  3.691895  0.002121    60001   None   \n",
       "2      0.176904  0.932754  0.030742  3.691895  0.002121    60002   None   \n",
       "3      0.176904  0.935801  0.045977  3.691895  0.002121    60003   None   \n",
       "4      0.176904  0.935801  0.030742  3.252441  0.002121    60004   None   \n",
       "...         ...       ...       ...       ...       ...      ...    ...   \n",
       "11995  0.357544  0.966709  0.029395  3.075439  0.002346    71995   None   \n",
       "11996  0.357544  0.951123  0.015371  3.075439  0.002346    71996   None   \n",
       "11997  0.357544  0.951123  0.029395  3.229248  0.002346    71997   None   \n",
       "11998  0.357544  0.951123  0.029395  3.075439  0.004209    71998   None   \n",
       "11999  0.357544  0.951123  0.029395  3.075439  0.002346    71999   None   \n",
       "\n",
       "               model  \n",
       "0      LakeProblem01  \n",
       "1      LakeProblem01  \n",
       "2      LakeProblem01  \n",
       "3      LakeProblem01  \n",
       "4      LakeProblem01  \n",
       "...              ...  \n",
       "11995  LakeProblem01  \n",
       "11996  LakeProblem01  \n",
       "11997  LakeProblem01  \n",
       "11998  LakeProblem01  \n",
       "11999  LakeProblem01  \n",
       "\n",
       "[12000 rows x 8 columns]"
      ]
     },
     "execution_count": 83,
     "metadata": {},
     "output_type": "execute_result"
    }
   ],
   "source": [
    "experiments01"
   ]
  },
  {
   "cell_type": "code",
   "execution_count": 62,
   "metadata": {},
   "outputs": [
    {
     "data": {
      "image/png": "[encoded data removed]",
      "text/plain": [
       "<Figure size 576x432 with 1 Axes>"
      ]
     },
     "metadata": {},
     "output_type": "display_data"
    }
   ],
   "source": [
    "scores_filtered01 = {k:Si01[k] for k in ['ST','ST_conf','S1','S1_conf']}\n",
    "Si01_df = pd.DataFrame(scores_filtered01, index=problem01['names'])\n",
    "\n",
    "sns.set_style('white')\n",
    "fig, ax01 = plt.subplots(1)\n",
    "\n",
    "indices01 = Si01_df[['S1','ST']]\n",
    "err01 = Si01_df[['S1_conf','ST_conf']]\n",
    "\n",
    "indices01.plot.bar(yerr=err01.values.T,ax=ax01)\n",
    "fig.set_size_inches(8,6)\n",
    "fig.subplots_adjust(bottom=0.3)\n",
    "plt.show()"
   ]
  },
  {
   "cell_type": "markdown",
   "metadata": {},
   "source": [
    "**The sensitivities change depending on the release policy. Why??**"
   ]
  },
  {
   "cell_type": "markdown",
   "metadata": {},
   "source": [
    "2. Repeat the above analysis for the 3 release policies but now with extra trees feature scoring and for all outcomes of interest. As a bonus, use the sobol experiment results as input for extra trees, and compare the results with those resulting from latin hypercube sampling.\n",
    "\n",
    "*hint: you can use [seaborn heatmaps](https://seaborn.pydata.org/generated/seaborn.heatmap.html) for a nice figure of the results*\n"
   ]
  },
  {
   "cell_type": "markdown",
   "metadata": {},
   "source": [
    "### Release Policy 0"
   ]
  },
  {
   "cell_type": "markdown",
   "metadata": {},
   "source": [
    "##### Feature scoring from Sobol"
   ]
  },
  {
   "cell_type": "code",
   "execution_count": 66,
   "metadata": {},
   "outputs": [
    {
     "name": "stderr",
     "output_type": "stream",
     "text": [
      "[MainProcess/INFO] policy dropped from analysis because only a single category\n",
      "[MainProcess/INFO] model dropped from analysis because only a single category\n",
      "[MainProcess/INFO] policy dropped from analysis because only a single category\n",
      "[MainProcess/INFO] model dropped from analysis because only a single category\n",
      "[MainProcess/INFO] policy dropped from analysis because only a single category\n",
      "[MainProcess/INFO] model dropped from analysis because only a single category\n",
      "[MainProcess/INFO] policy dropped from analysis because only a single category\n",
      "[MainProcess/INFO] model dropped from analysis because only a single category\n"
     ]
    },
    {
     "data": {
      "image/png": "[encoded data removed]",
      "text/plain": [
       "<Figure size 432x288 with 2 Axes>"
      ]
     },
     "metadata": {},
     "output_type": "display_data"
    }
   ],
   "source": [
    "x0 = experiments0\n",
    "y0 = outcomes0\n",
    "\n",
    "fs0 = feature_scoring.get_feature_scores_all(x0, y0)\n",
    "sns.heatmap(fs0, cmap='viridis', annot=True)\n",
    "plt.show()"
   ]
  },
  {
   "cell_type": "markdown",
   "metadata": {},
   "source": [
    "From the results, we see that max_P and reliability is mostly influenced by b. The effect of the uncertainties in all parameters is unknown to utility and inertia."
   ]
  },
  {
   "cell_type": "markdown",
   "metadata": {},
   "source": [
    "##### Feature scoring from LHS"
   ]
  },
  {
   "cell_type": "code",
   "execution_count": 86,
   "metadata": {},
   "outputs": [
    {
     "name": "stderr",
     "output_type": "stream",
     "text": [
      "[MainProcess/INFO] pool started\n",
      "[MainProcess/INFO] performing 12000 scenarios * 1 policies * 1 model(s) = 12000 experiments\n",
      "[MainProcess/INFO] 1200 cases completed\n",
      "[MainProcess/INFO] 2400 cases completed\n",
      "[MainProcess/INFO] 3600 cases completed\n",
      "[MainProcess/INFO] 4800 cases completed\n",
      "[MainProcess/INFO] 6000 cases completed\n",
      "[MainProcess/INFO] 7200 cases completed\n",
      "[MainProcess/INFO] 8400 cases completed\n",
      "[MainProcess/INFO] 9600 cases completed\n",
      "[MainProcess/INFO] 10800 cases completed\n",
      "[MainProcess/INFO] 12000 cases completed\n",
      "[MainProcess/INFO] experiments finished\n",
      "[MainProcess/INFO] terminating pool\n"
     ]
    }
   ],
   "source": [
    "#re-run the experiments but now with LHS\n",
    "with MultiprocessingEvaluator(model01) as evaluator:\n",
    "    results = evaluator.perform_experiments(scenarios=12000, uncertainty_sampling='lhs')\n",
    "\n",
    "experiments0LHS, outcomes0LHS = results"
   ]
  },
  {
   "cell_type": "code",
   "execution_count": 74,
   "metadata": {},
   "outputs": [
    {
     "name": "stderr",
     "output_type": "stream",
     "text": [
      "[MainProcess/INFO] policy dropped from analysis because only a single category\n",
      "[MainProcess/INFO] model dropped from analysis because only a single category\n",
      "[MainProcess/INFO] policy dropped from analysis because only a single category\n",
      "[MainProcess/INFO] model dropped from analysis because only a single category\n",
      "[MainProcess/INFO] policy dropped from analysis because only a single category\n",
      "[MainProcess/INFO] model dropped from analysis because only a single category\n",
      "[MainProcess/INFO] policy dropped from analysis because only a single category\n",
      "[MainProcess/INFO] model dropped from analysis because only a single category\n"
     ]
    },
    {
     "data": {
      "image/png": "[encoded data removed]",
      "text/plain": [
       "<Figure size 432x288 with 2 Axes>"
      ]
     },
     "metadata": {},
     "output_type": "display_data"
    }
   ],
   "source": [
    "x0LHS = experiments0LHS\n",
    "y0LHS = outcomes0LHS\n",
    "\n",
    "fs0LHS = feature_scoring.get_feature_scores_all(x0LHS, y0LHS)\n",
    "sns.heatmap(fs0LHS, cmap='viridis', annot=True)\n",
    "plt.show()"
   ]
  },
  {
   "cell_type": "markdown",
   "metadata": {},
   "source": [
    "##### Confidence Interval from LHS"
   ]
  },
  {
   "cell_type": "code",
   "execution_count": 84,
   "metadata": {},
   "outputs": [
    {
     "data": {
      "text/html": [
       "<div>\n",
       "<style scoped>\n",
       "    .dataframe tbody tr th:only-of-type {\n",
       "        vertical-align: middle;\n",
       "    }\n",
       "\n",
       "    .dataframe tbody tr th {\n",
       "        vertical-align: top;\n",
       "    }\n",
       "\n",
       "    .dataframe thead th {\n",
       "        text-align: right;\n",
       "    }\n",
       "</style>\n",
       "<table border=\"1\" class=\"dataframe\">\n",
       "  <thead>\n",
       "    <tr style=\"text-align: right;\">\n",
       "      <th></th>\n",
       "      <th>b</th>\n",
       "      <th>delta</th>\n",
       "      <th>mean</th>\n",
       "      <th>q</th>\n",
       "      <th>stdev</th>\n",
       "      <th>scenario</th>\n",
       "      <th>policy</th>\n",
       "      <th>model</th>\n",
       "    </tr>\n",
       "  </thead>\n",
       "  <tbody>\n",
       "    <tr>\n",
       "      <th>0</th>\n",
       "      <td>0.269119</td>\n",
       "      <td>0.976497</td>\n",
       "      <td>0.046470</td>\n",
       "      <td>3.755961</td>\n",
       "      <td>0.004699</td>\n",
       "      <td>72000</td>\n",
       "      <td>None</td>\n",
       "      <td>LakeProblem01</td>\n",
       "    </tr>\n",
       "    <tr>\n",
       "      <th>1</th>\n",
       "      <td>0.252145</td>\n",
       "      <td>0.941347</td>\n",
       "      <td>0.044263</td>\n",
       "      <td>3.371633</td>\n",
       "      <td>0.003620</td>\n",
       "      <td>72001</td>\n",
       "      <td>None</td>\n",
       "      <td>LakeProblem01</td>\n",
       "    </tr>\n",
       "    <tr>\n",
       "      <th>2</th>\n",
       "      <td>0.434189</td>\n",
       "      <td>0.981273</td>\n",
       "      <td>0.024371</td>\n",
       "      <td>3.274332</td>\n",
       "      <td>0.003987</td>\n",
       "      <td>72002</td>\n",
       "      <td>None</td>\n",
       "      <td>LakeProblem01</td>\n",
       "    </tr>\n",
       "    <tr>\n",
       "      <th>3</th>\n",
       "      <td>0.269839</td>\n",
       "      <td>0.955586</td>\n",
       "      <td>0.023454</td>\n",
       "      <td>3.378992</td>\n",
       "      <td>0.002925</td>\n",
       "      <td>72003</td>\n",
       "      <td>None</td>\n",
       "      <td>LakeProblem01</td>\n",
       "    </tr>\n",
       "    <tr>\n",
       "      <th>4</th>\n",
       "      <td>0.407193</td>\n",
       "      <td>0.941443</td>\n",
       "      <td>0.029023</td>\n",
       "      <td>4.415169</td>\n",
       "      <td>0.003791</td>\n",
       "      <td>72004</td>\n",
       "      <td>None</td>\n",
       "      <td>LakeProblem01</td>\n",
       "    </tr>\n",
       "    <tr>\n",
       "      <th>...</th>\n",
       "      <td>...</td>\n",
       "      <td>...</td>\n",
       "      <td>...</td>\n",
       "      <td>...</td>\n",
       "      <td>...</td>\n",
       "      <td>...</td>\n",
       "      <td>...</td>\n",
       "      <td>...</td>\n",
       "    </tr>\n",
       "    <tr>\n",
       "      <th>995</th>\n",
       "      <td>0.350008</td>\n",
       "      <td>0.940696</td>\n",
       "      <td>0.030410</td>\n",
       "      <td>3.856379</td>\n",
       "      <td>0.003324</td>\n",
       "      <td>72995</td>\n",
       "      <td>None</td>\n",
       "      <td>LakeProblem01</td>\n",
       "    </tr>\n",
       "    <tr>\n",
       "      <th>996</th>\n",
       "      <td>0.427654</td>\n",
       "      <td>0.960598</td>\n",
       "      <td>0.010484</td>\n",
       "      <td>2.513876</td>\n",
       "      <td>0.002109</td>\n",
       "      <td>72996</td>\n",
       "      <td>None</td>\n",
       "      <td>LakeProblem01</td>\n",
       "    </tr>\n",
       "    <tr>\n",
       "      <th>997</th>\n",
       "      <td>0.390047</td>\n",
       "      <td>0.936358</td>\n",
       "      <td>0.026175</td>\n",
       "      <td>2.065878</td>\n",
       "      <td>0.004881</td>\n",
       "      <td>72997</td>\n",
       "      <td>None</td>\n",
       "      <td>LakeProblem01</td>\n",
       "    </tr>\n",
       "    <tr>\n",
       "      <th>998</th>\n",
       "      <td>0.315807</td>\n",
       "      <td>0.977351</td>\n",
       "      <td>0.033376</td>\n",
       "      <td>3.633119</td>\n",
       "      <td>0.003555</td>\n",
       "      <td>72998</td>\n",
       "      <td>None</td>\n",
       "      <td>LakeProblem01</td>\n",
       "    </tr>\n",
       "    <tr>\n",
       "      <th>999</th>\n",
       "      <td>0.194733</td>\n",
       "      <td>0.951888</td>\n",
       "      <td>0.020686</td>\n",
       "      <td>2.959320</td>\n",
       "      <td>0.001892</td>\n",
       "      <td>72999</td>\n",
       "      <td>None</td>\n",
       "      <td>LakeProblem01</td>\n",
       "    </tr>\n",
       "  </tbody>\n",
       "</table>\n",
       "<p>1000 rows × 8 columns</p>\n",
       "</div>"
      ],
      "text/plain": [
       "            b     delta      mean         q     stdev scenario policy  \\\n",
       "0    0.269119  0.976497  0.046470  3.755961  0.004699    72000   None   \n",
       "1    0.252145  0.941347  0.044263  3.371633  0.003620    72001   None   \n",
       "2    0.434189  0.981273  0.024371  3.274332  0.003987    72002   None   \n",
       "3    0.269839  0.955586  0.023454  3.378992  0.002925    72003   None   \n",
       "4    0.407193  0.941443  0.029023  4.415169  0.003791    72004   None   \n",
       "..        ...       ...       ...       ...       ...      ...    ...   \n",
       "995  0.350008  0.940696  0.030410  3.856379  0.003324    72995   None   \n",
       "996  0.427654  0.960598  0.010484  2.513876  0.002109    72996   None   \n",
       "997  0.390047  0.936358  0.026175  2.065878  0.004881    72997   None   \n",
       "998  0.315807  0.977351  0.033376  3.633119  0.003555    72998   None   \n",
       "999  0.194733  0.951888  0.020686  2.959320  0.001892    72999   None   \n",
       "\n",
       "             model  \n",
       "0    LakeProblem01  \n",
       "1    LakeProblem01  \n",
       "2    LakeProblem01  \n",
       "3    LakeProblem01  \n",
       "4    LakeProblem01  \n",
       "..             ...  \n",
       "995  LakeProblem01  \n",
       "996  LakeProblem01  \n",
       "997  LakeProblem01  \n",
       "998  LakeProblem01  \n",
       "999  LakeProblem01  \n",
       "\n",
       "[1000 rows x 8 columns]"
      ]
     },
     "execution_count": 84,
     "metadata": {},
     "output_type": "execute_result"
    }
   ],
   "source": [
    "experiments0LHS"
   ]
  },
  {
   "cell_type": "code",
   "execution_count": 87,
   "metadata": {},
   "outputs": [],
   "source": [
    "Si0_2 = sobol.analyze(problem0, outcomes0LHS['reliability'], calc_second_order=True, print_to_console=False)"
   ]
  },
  {
   "cell_type": "code",
   "execution_count": 89,
   "metadata": {},
   "outputs": [
    {
     "data": {
      "image/png": "[encoded data removed]",
      "text/plain": [
       "<Figure size 576x432 with 1 Axes>"
      ]
     },
     "metadata": {},
     "output_type": "display_data"
    }
   ],
   "source": [
    "scores_filtered0_2 = {k:Si0_2[k] for k in ['ST','ST_conf','S1','S1_conf']}\n",
    "Si0_2_df = pd.DataFrame(scores_filtered0_2, index=problem0['names'])\n",
    "\n",
    "sns.set_style('white')\n",
    "fig, ax0_2 = plt.subplots(1)\n",
    "\n",
    "indices0_2 = Si0_2_df[['S1','ST']]\n",
    "err0_2 = Si0_2_df[['S1_conf','ST_conf']]\n",
    "\n",
    "indices0_2.plot.bar(yerr=err0_2.values.T,ax=ax0_2)\n",
    "fig.set_size_inches(8,6)\n",
    "fig.subplots_adjust(bottom=0.3)\n",
    "plt.show()"
   ]
  },
  {
   "cell_type": "markdown",
   "metadata": {},
   "source": [
    "### Release Policy 0.05"
   ]
  },
  {
   "cell_type": "markdown",
   "metadata": {},
   "source": [
    "##### Feature scoring from Sobol"
   ]
  },
  {
   "cell_type": "code",
   "execution_count": 67,
   "metadata": {},
   "outputs": [
    {
     "name": "stderr",
     "output_type": "stream",
     "text": [
      "[MainProcess/INFO] policy dropped from analysis because only a single category\n",
      "[MainProcess/INFO] model dropped from analysis because only a single category\n",
      "[MainProcess/INFO] policy dropped from analysis because only a single category\n",
      "[MainProcess/INFO] model dropped from analysis because only a single category\n",
      "[MainProcess/INFO] policy dropped from analysis because only a single category\n",
      "[MainProcess/INFO] model dropped from analysis because only a single category\n",
      "[MainProcess/INFO] policy dropped from analysis because only a single category\n",
      "[MainProcess/INFO] model dropped from analysis because only a single category\n"
     ]
    },
    {
     "data": {
      "image/png": "[encoded data removed]",
      "text/plain": [
       "<Figure size 432x288 with 2 Axes>"
      ]
     },
     "metadata": {},
     "output_type": "display_data"
    }
   ],
   "source": [
    "x005 = experiments005\n",
    "y005 = outcomes005\n",
    "\n",
    "fs005 = feature_scoring.get_feature_scores_all(x005, y005)\n",
    "sns.heatmap(fs005, cmap='viridis', annot=True)\n",
    "plt.show()"
   ]
  },
  {
   "cell_type": "markdown",
   "metadata": {},
   "source": [
    "From the results, we see that max_P is primarily influenced by b, while utility is highly driven by delta. Reliability is mostly influenced by b as well, while the effect of the uncertainties in all parameters is unknown to inertia."
   ]
  },
  {
   "cell_type": "markdown",
   "metadata": {},
   "source": [
    "##### Feature scoring from LHS"
   ]
  },
  {
   "cell_type": "code",
   "execution_count": 90,
   "metadata": {},
   "outputs": [
    {
     "name": "stderr",
     "output_type": "stream",
     "text": [
      "[MainProcess/INFO] pool started\n",
      "[MainProcess/INFO] performing 12000 scenarios * 1 policies * 1 model(s) = 12000 experiments\n",
      "[MainProcess/INFO] 1200 cases completed\n",
      "[MainProcess/INFO] 2400 cases completed\n",
      "[MainProcess/INFO] 3600 cases completed\n",
      "[MainProcess/INFO] 4800 cases completed\n",
      "[MainProcess/INFO] 6000 cases completed\n",
      "[MainProcess/INFO] 7200 cases completed\n",
      "[MainProcess/INFO] 8400 cases completed\n",
      "[MainProcess/INFO] 9600 cases completed\n",
      "[MainProcess/INFO] 10800 cases completed\n",
      "[MainProcess/INFO] 12000 cases completed\n",
      "[MainProcess/INFO] experiments finished\n",
      "[MainProcess/INFO] terminating pool\n"
     ]
    }
   ],
   "source": [
    "#re-run the experiments but now with LHS\n",
    "with MultiprocessingEvaluator(model005) as evaluator:\n",
    "    results = evaluator.perform_experiments(scenarios=12000, uncertainty_sampling='lhs')\n",
    "\n",
    "experiments005LHS, outcomes005LHS = results"
   ]
  },
  {
   "cell_type": "code",
   "execution_count": 76,
   "metadata": {},
   "outputs": [
    {
     "name": "stderr",
     "output_type": "stream",
     "text": [
      "[MainProcess/INFO] policy dropped from analysis because only a single category\n",
      "[MainProcess/INFO] model dropped from analysis because only a single category\n",
      "[MainProcess/INFO] policy dropped from analysis because only a single category\n",
      "[MainProcess/INFO] model dropped from analysis because only a single category\n",
      "[MainProcess/INFO] policy dropped from analysis because only a single category\n",
      "[MainProcess/INFO] model dropped from analysis because only a single category\n",
      "[MainProcess/INFO] policy dropped from analysis because only a single category\n",
      "[MainProcess/INFO] model dropped from analysis because only a single category\n"
     ]
    },
    {
     "data": {
      "image/png": "[encoded data removed]",
      "text/plain": [
       "<Figure size 432x288 with 2 Axes>"
      ]
     },
     "metadata": {},
     "output_type": "display_data"
    }
   ],
   "source": [
    "x005LHS = experiments005LHS\n",
    "y005LHS = outcomes005LHS\n",
    "\n",
    "fs005LHS = feature_scoring.get_feature_scores_all(x005LHS, y005LHS)\n",
    "sns.heatmap(fs005LHS, cmap='viridis', annot=True)\n",
    "plt.show()"
   ]
  },
  {
   "cell_type": "markdown",
   "metadata": {},
   "source": [
    "##### Confidence Interval from LHS"
   ]
  },
  {
   "cell_type": "code",
   "execution_count": 91,
   "metadata": {},
   "outputs": [],
   "source": [
    "Si005_2 = sobol.analyze(problem005, outcomes005['reliability'],\n",
    "                   calc_second_order=True, print_to_console=False)"
   ]
  },
  {
   "cell_type": "code",
   "execution_count": 92,
   "metadata": {},
   "outputs": [
    {
     "data": {
      "image/png": "[encoded data removed]",
      "text/plain": [
       "<Figure size 576x432 with 1 Axes>"
      ]
     },
     "metadata": {},
     "output_type": "display_data"
    }
   ],
   "source": [
    "scores_filtered005_2 = {k:Si005_2[k] for k in ['ST','ST_conf','S1','S1_conf']}\n",
    "Si005_2_df = pd.DataFrame(scores_filtered005_2, index=problem005['names'])\n",
    "\n",
    "sns.set_style('white')\n",
    "fig, ax005_2 = plt.subplots(1)\n",
    "\n",
    "indices005_2 = Si005_2_df[['S1','ST']]\n",
    "err005_2 = Si005_2_df[['S1_conf','ST_conf']]\n",
    "\n",
    "indices005_2.plot.bar(yerr=err005_2.values.T,ax=ax005_2)\n",
    "fig.set_size_inches(8,6)\n",
    "fig.subplots_adjust(bottom=0.3)\n",
    "plt.show()"
   ]
  },
  {
   "cell_type": "markdown",
   "metadata": {},
   "source": [
    "### Release Policy 0.1"
   ]
  },
  {
   "cell_type": "markdown",
   "metadata": {},
   "source": [
    "##### Feature scoring from Sobol"
   ]
  },
  {
   "cell_type": "code",
   "execution_count": 68,
   "metadata": {},
   "outputs": [
    {
     "name": "stderr",
     "output_type": "stream",
     "text": [
      "[MainProcess/INFO] policy dropped from analysis because only a single category\n",
      "[MainProcess/INFO] model dropped from analysis because only a single category\n",
      "[MainProcess/INFO] policy dropped from analysis because only a single category\n",
      "[MainProcess/INFO] model dropped from analysis because only a single category\n",
      "[MainProcess/INFO] policy dropped from analysis because only a single category\n",
      "[MainProcess/INFO] model dropped from analysis because only a single category\n",
      "[MainProcess/INFO] policy dropped from analysis because only a single category\n",
      "[MainProcess/INFO] model dropped from analysis because only a single category\n"
     ]
    },
    {
     "data": {
      "image/png": "[encoded data removed]",
      "text/plain": [
       "<Figure size 432x288 with 2 Axes>"
      ]
     },
     "metadata": {},
     "output_type": "display_data"
    }
   ],
   "source": [
    "x01 = experiments01\n",
    "y01 = outcomes01\n",
    "\n",
    "fs01 = feature_scoring.get_feature_scores_all(x01, y01)\n",
    "sns.heatmap(fs01, cmap='viridis', annot=True)\n",
    "plt.show()"
   ]
  },
  {
   "cell_type": "markdown",
   "metadata": {},
   "source": [
    "The effect of the uncertainties in all parameters is unknown to inertia. We also see that max_P is primarily influenced by b, while utility is highly driven by delta. Reliability is mostly influenced by b as well, while the effect of the uncertainties in all parameters is unknown to inertia."
   ]
  },
  {
   "cell_type": "markdown",
   "metadata": {},
   "source": [
    "##### Feature scoring from LHS"
   ]
  },
  {
   "cell_type": "code",
   "execution_count": 93,
   "metadata": {},
   "outputs": [
    {
     "name": "stderr",
     "output_type": "stream",
     "text": [
      "[MainProcess/INFO] pool started\n",
      "[MainProcess/INFO] performing 12000 scenarios * 1 policies * 1 model(s) = 12000 experiments\n",
      "[MainProcess/INFO] 1200 cases completed\n",
      "[MainProcess/INFO] 2400 cases completed\n",
      "[MainProcess/INFO] 3600 cases completed\n",
      "[MainProcess/INFO] 4800 cases completed\n",
      "[MainProcess/INFO] 6000 cases completed\n",
      "[MainProcess/INFO] 7200 cases completed\n",
      "[MainProcess/INFO] 8400 cases completed\n",
      "[MainProcess/INFO] 9600 cases completed\n",
      "[MainProcess/INFO] 10800 cases completed\n",
      "[MainProcess/INFO] 12000 cases completed\n",
      "[MainProcess/INFO] experiments finished\n",
      "[MainProcess/INFO] terminating pool\n"
     ]
    }
   ],
   "source": [
    "#re-run the experiments but now with LHS\n",
    "with MultiprocessingEvaluator(model01) as evaluator:\n",
    "    results = evaluator.perform_experiments(scenarios=12000, uncertainty_sampling='lhs')\n",
    "\n",
    "experiments01LHS, outcomes01LHS = results"
   ]
  },
  {
   "cell_type": "code",
   "execution_count": 75,
   "metadata": {},
   "outputs": [
    {
     "name": "stderr",
     "output_type": "stream",
     "text": [
      "[MainProcess/INFO] policy dropped from analysis because only a single category\n",
      "[MainProcess/INFO] model dropped from analysis because only a single category\n",
      "[MainProcess/INFO] policy dropped from analysis because only a single category\n",
      "[MainProcess/INFO] model dropped from analysis because only a single category\n",
      "[MainProcess/INFO] policy dropped from analysis because only a single category\n",
      "[MainProcess/INFO] model dropped from analysis because only a single category\n",
      "[MainProcess/INFO] policy dropped from analysis because only a single category\n",
      "[MainProcess/INFO] model dropped from analysis because only a single category\n"
     ]
    },
    {
     "data": {
      "image/png": "[encoded data removed]",
      "text/plain": [
       "<Figure size 432x288 with 2 Axes>"
      ]
     },
     "metadata": {},
     "output_type": "display_data"
    }
   ],
   "source": [
    "x01LHS = experiments01LHS\n",
    "y01LHS = outcomes01LHS\n",
    "\n",
    "fs01LHS = feature_scoring.get_feature_scores_all(x01LHS, y01LHS)\n",
    "sns.heatmap(fs01LHS, cmap='viridis', annot=True)\n",
    "plt.show()"
   ]
  },
  {
   "cell_type": "markdown",
   "metadata": {},
   "source": [
    "##### Confidence Interval from LHS"
   ]
  },
  {
   "cell_type": "code",
   "execution_count": 94,
   "metadata": {},
   "outputs": [],
   "source": [
    "Si01_2 = sobol.analyze(problem01, outcomes01['reliability'],\n",
    "                   calc_second_order=True, print_to_console=False)"
   ]
  },
  {
   "cell_type": "code",
   "execution_count": 95,
   "metadata": {},
   "outputs": [
    {
     "data": {
      "image/png": "[encoded data removed]",
      "text/plain": [
       "<Figure size 576x432 with 1 Axes>"
      ]
     },
     "metadata": {},
     "output_type": "display_data"
    }
   ],
   "source": [
    "scores_filtered01_2 = {k:Si01_2[k] for k in ['ST','ST_conf','S1','S1_conf']}\n",
    "Si01_2_df = pd.DataFrame(scores_filtered01_2, index=problem01['names'])\n",
    "\n",
    "sns.set_style('white')\n",
    "fig, ax01_2 = plt.subplots(1)\n",
    "\n",
    "indices01_2 = Si01_2_df[['S1','ST']]\n",
    "err01_2 = Si01_2_df[['S1_conf','ST_conf']]\n",
    "\n",
    "indices01_2.plot.bar(yerr=err01_2.values.T,ax=ax01_2)\n",
    "fig.set_size_inches(8,6)\n",
    "fig.subplots_adjust(bottom=0.3)\n",
    "plt.show()"
   ]
  }
 ],
 "metadata": {
  "kernelspec": {
   "display_name": "Python 3",
   "language": "python",
   "name": "python3"
  },
  "language_info": {
   "codemirror_mode": {
    "name": "ipython",
    "version": 3
   },
   "file_extension": ".py",
   "mimetype": "text/x-python",
   "name": "python",
   "nbconvert_exporter": "python",
   "pygments_lexer": "ipython3",
   "version": "3.7.3"
  }
 },
 "nbformat": 4,
 "nbformat_minor": 4
}
